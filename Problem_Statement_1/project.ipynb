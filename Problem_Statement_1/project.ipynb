{
 "cells": [
  {
   "cell_type": "code",
   "execution_count": 26,
   "metadata": {},
   "outputs": [],
   "source": [
    "from PIL import Image\n",
    "import numpy as np\n",
    "\n",
    "\n",
    "input_image = Image.open('images/input.jpg')\n",
    "mask_image = Image.open('images/mask.png').convert('L')\n",
    "\n",
    "\n",
    "mask_image = mask_image.resize(input_image.size)\n",
    "\n",
    "\n",
    "input_array = np.array(input_image)\n",
    "mask_array = np.array(mask_image)\n",
    "\n",
    "\n",
    "background_color = [255, 0, 0]\n",
    "\n",
    "result_array = np.where(mask_array[:, :, None] > 128, input_array, background_color)\n",
    "\n",
    "\n",
    "y_indices, x_indices = np.where(mask_array > 128)\n",
    "y_min, y_max = y_indices.min(), y_indices.max()\n",
    "x_min, x_max = x_indices.min(), x_indices.max()\n",
    "\n",
    "\n",
    "segmented_image = result_array[y_min:y_max+1, x_min:x_max+1]\n",
    "\n",
    "\n",
    "final_image = np.full_like(result_array, background_color)\n",
    "\n",
    "\n",
    "center_y = (final_image.shape[0] - segmented_image.shape[0]) // 2\n",
    "center_x = (final_image.shape[1] - segmented_image.shape[1]) // 2\n",
    "\n",
    "\n",
    "final_image[center_y:center_y+segmented_image.shape[0], center_x:center_x+segmented_image.shape[1]] = segmented_image\n",
    "\n",
    "\n",
    "result_image = Image.fromarray(final_image.astype('uint8'))\n",
    "result_image.save('result_output.jpg')\n"
   ]
  }
 ],
 "metadata": {
  "kernelspec": {
   "display_name": "env",
   "language": "python",
   "name": "python3"
  },
  "language_info": {
   "codemirror_mode": {
    "name": "ipython",
    "version": 3
   },
   "file_extension": ".py",
   "mimetype": "text/x-python",
   "name": "python",
   "nbconvert_exporter": "python",
   "pygments_lexer": "ipython3",
   "version": "3.9.18"
  }
 },
 "nbformat": 4,
 "nbformat_minor": 2
}
