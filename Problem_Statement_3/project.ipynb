{
 "cells": [
  {
   "cell_type": "markdown",
   "metadata": {},
   "source": [
    "# 3 Ways to do get the most similar Image according to the query."
   ]
  },
  {
   "cell_type": "code",
   "execution_count": 2,
   "metadata": {},
   "outputs": [
    {
     "name": "stdout",
     "output_type": "stream",
     "text": [
      "12.jpg: 96.38% similarity\n",
      "4.jpg: 39.56% similarity\n",
      "3.jpg: 59.67% similarity\n",
      "14.jpg: 100.00% similarity\n",
      "10.jpg: 67.20% similarity\n",
      "5.jpg: 69.83% similarity\n",
      "6.jpg: 78.52% similarity\n",
      "2.jpg: 43.48% similarity\n",
      "13.jpg: 21.20% similarity\n",
      "7.jpg: 0.00% similarity\n",
      "11.jpg: 97.22% similarity\n",
      "1.jpg: 15.61% similarity\n",
      "\n",
      "Most similar image: 14.jpg (1206648.01 distance)\n",
      "Least similar image: 7.jpg (5555478.37 distance)\n"
     ]
    }
   ],
   "source": [
    "import os\n",
    "import numpy as np\n",
    "from PIL import Image\n",
    "from scipy.spatial.distance import euclidean\n",
    "\n",
    "def extract_histogram(image_path):\n",
    "    image = Image.open(image_path).convert('RGB')\n",
    "    histogram = image.histogram()\n",
    "    return np.array(histogram)\n",
    "\n",
    "def find_most_similar_image(query_image_path, database_folder):\n",
    "    query_histogram = extract_histogram(query_image_path)\n",
    "    \n",
    "    min_distance = float('inf')\n",
    "    max_distance = 0\n",
    "    most_similar_image = None\n",
    "    least_similar_image = None\n",
    "    \n",
    "    similarities = []\n",
    "\n",
    "    for image_name in os.listdir(database_folder):\n",
    "        image_path = os.path.join(database_folder, image_name)\n",
    "        image_histogram = extract_histogram(image_path)\n",
    "        distance = euclidean(query_histogram, image_histogram)\n",
    "        \n",
    "        similarities.append((image_name, distance))\n",
    "        \n",
    "        if distance < min_distance:\n",
    "            min_distance = distance\n",
    "            most_similar_image = image_name\n",
    "        \n",
    "        if distance > max_distance:\n",
    "            max_distance = distance\n",
    "            least_similar_image = image_name\n",
    "    \n",
    "   \n",
    "    for image_name, distance in similarities:\n",
    "        similarity_percentage = 100 - ((distance - min_distance) / (max_distance - min_distance) * 100)\n",
    "        print(f\"{image_name}: {similarity_percentage:.2f}% similarity\")\n",
    "    \n",
    "    print(f\"\\nMost similar image: {most_similar_image} ({min_distance:.2f} distance)\")\n",
    "    print(f\"Least similar image: {least_similar_image} ({max_distance:.2f} distance)\")\n",
    "\n",
    "query_image_path = 'query.jpg'\n",
    "database_folder = 'database'\n",
    "\n",
    "find_most_similar_image(query_image_path, database_folder)\n"
   ]
  },
  {
   "cell_type": "code",
   "execution_count": 6,
   "metadata": {},
   "outputs": [
    {
     "name": "stdout",
     "output_type": "stream",
     "text": [
      "Most similar image: 14.jpg with 147 matches\n"
     ]
    }
   ],
   "source": [
    "import cv2\n",
    "import os\n",
    "import numpy as np\n",
    "\n",
    "def extract_orb_features(image_path):\n",
    "    image = cv2.imread(image_path, cv2.IMREAD_GRAYSCALE)\n",
    "    orb = cv2.ORB_create()\n",
    "    keypoints, descriptors = orb.detectAndCompute(image, None)\n",
    "    return descriptors\n",
    "\n",
    "def find_most_similar_image(query_image_path, database_folder):\n",
    "    query_descriptors = extract_orb_features(query_image_path)\n",
    "    \n",
    "    bf = cv2.BFMatcher(cv2.NORM_HAMMING, crossCheck=True)\n",
    "    max_matches = 0\n",
    "    most_similar_image = None\n",
    "\n",
    "    for image_name in os.listdir(database_folder):\n",
    "        image_path = os.path.join(database_folder, image_name)\n",
    "        database_descriptors = extract_orb_features(image_path)\n",
    "\n",
    "        if database_descriptors is not None:\n",
    "            matches = bf.match(query_descriptors, database_descriptors)\n",
    "            num_matches = len(matches)\n",
    "\n",
    "            if num_matches > max_matches:\n",
    "                max_matches = num_matches\n",
    "                most_similar_image = image_name\n",
    "    \n",
    "    print(f\"Most similar image: {most_similar_image} with {max_matches} matches\")\n",
    "\n",
    "query_image_path = 'query.jpg'\n",
    "database_folder = 'database'\n",
    "\n",
    "find_most_similar_image(query_image_path, database_folder)\n",
    "\n"
   ]
  },
  {
   "cell_type": "code",
   "execution_count": 8,
   "metadata": {},
   "outputs": [
    {
     "name": "stderr",
     "output_type": "stream",
     "text": [
      "/media/cvpr/HDD/anaconda/envs/env/lib/python3.9/site-packages/tqdm/auto.py:21: TqdmWarning: IProgress not found. Please update jupyter and ipywidgets. See https://ipywidgets.readthedocs.io/en/stable/user_install.html\n",
      "  from .autonotebook import tqdm as notebook_tqdm\n",
      "/media/cvpr/HDD/anaconda/envs/env/lib/python3.9/site-packages/torchvision/models/_utils.py:208: UserWarning: The parameter 'pretrained' is deprecated since 0.13 and may be removed in the future, please use 'weights' instead.\n",
      "  warnings.warn(\n",
      "/media/cvpr/HDD/anaconda/envs/env/lib/python3.9/site-packages/torchvision/models/_utils.py:223: UserWarning: Arguments other than a weight enum or `None` for 'weights' are deprecated since 0.13 and may be removed in the future. The current behavior is equivalent to passing `weights=VGG16_Weights.IMAGENET1K_V1`. You can also use `weights=VGG16_Weights.DEFAULT` to get the most up-to-date weights.\n",
      "  warnings.warn(msg)\n",
      "Downloading: \"https://download.pytorch.org/models/vgg16-397923af.pth\" to /home/cvpr/.cache/torch/hub/checkpoints/vgg16-397923af.pth\n",
      "100%|██████████| 528M/528M [00:50<00:00, 11.0MB/s] \n"
     ]
    },
    {
     "name": "stdout",
     "output_type": "stream",
     "text": [
      "Most similar image: 14.jpg with distance 23.19\n"
     ]
    }
   ],
   "source": [
    "import os\n",
    "import torch\n",
    "import torch.nn as nn\n",
    "import torchvision.models as models\n",
    "import torchvision.transforms as transforms\n",
    "from PIL import Image\n",
    "import numpy as np\n",
    "\n",
    "\n",
    "model = models.vgg16(pretrained=True)\n",
    "model.classifier = nn.Sequential(*list(model.classifier.children())[:-3])\n",
    "model.eval()\n",
    "\n",
    "\n",
    "transform = transforms.Compose([\n",
    "    transforms.Resize((224, 224)),\n",
    "    transforms.ToTensor(),\n",
    "    transforms.Normalize(mean=[0.485, 0.456, 0.406], std=[0.229, 0.224, 0.225]),\n",
    "])\n",
    "\n",
    "def extract_cnn_features(image_path, model):\n",
    "    image = Image.open(image_path).convert('RGB')\n",
    "    image = transform(image).unsqueeze(0)\n",
    "    with torch.no_grad():\n",
    "        features = model(image)\n",
    "    return features.flatten().numpy()\n",
    "\n",
    "def find_most_similar_image(query_image_path, database_folder):\n",
    "    query_features = extract_cnn_features(query_image_path, model)\n",
    "    min_distance = float('inf')\n",
    "    most_similar_image = None\n",
    "\n",
    "    for image_name in os.listdir(database_folder):\n",
    "        image_path = os.path.join(database_folder, image_name)\n",
    "        database_features = extract_cnn_features(image_path, model)\n",
    "        distance = np.linalg.norm(query_features - database_features)\n",
    "\n",
    "        if distance < min_distance:\n",
    "            min_distance = distance\n",
    "            most_similar_image = image_name\n",
    "    \n",
    "    print(f\"Most similar image: {most_similar_image} with distance {min_distance:.2f}\")\n",
    "\n",
    "\n",
    "query_image_path = 'query.jpg'\n",
    "database_folder = 'database'\n",
    "\n",
    "find_most_similar_image(query_image_path, database_folder)\n",
    "\n",
    "\n"
   ]
  }
 ],
 "metadata": {
  "kernelspec": {
   "display_name": "env",
   "language": "python",
   "name": "python3"
  },
  "language_info": {
   "codemirror_mode": {
    "name": "ipython",
    "version": 3
   },
   "file_extension": ".py",
   "mimetype": "text/x-python",
   "name": "python",
   "nbconvert_exporter": "python",
   "pygments_lexer": "ipython3",
   "version": "3.9.18"
  }
 },
 "nbformat": 4,
 "nbformat_minor": 2
}
